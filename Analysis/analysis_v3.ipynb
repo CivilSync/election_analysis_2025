{
 "cells": [
  {
   "cell_type": "code",
   "execution_count": 5,
   "id": "f08e2c1e",
   "metadata": {},
   "outputs": [],
   "source": [
    "import pandas as pd\n",
    "\n",
    "# CSV-Dateien laden (Pfad ggf. anpassen)\n",
    "beiträge_df = pd.read_csv(\"../Data/data_v3/Beitraege.csv\")\n",
    "likes_df = pd.read_csv(\"../Data/data_v3/Likes.csv\")\n",
    "nutzer_realistisch_df = pd.read_csv(\"../Data/data_v3/Nutzer.csv\")\n"
   ]
  },
  {
   "cell_type": "code",
   "execution_count": 6,
   "id": "ec3ba551",
   "metadata": {},
   "outputs": [
    {
     "name": "stdout",
     "output_type": "stream",
     "text": [
      "   hashtag_einzeln  gesamtanzahl  nichtwaehler_anzahl dominante_partei  \\\n",
      "29          schule          1903                  658              SPD   \n",
      "35          wahlen          1699                  587              SPD   \n",
      "26       radfahren          1387                  479              SPD   \n",
      "5   bildungfüralle          2038                  698              AfD   \n",
      "7             chor          1576                  539              SPD   \n",
      "14   gerechtigkeit          1775                  607              SPD   \n",
      "6       blockchain          1880                  639              SPD   \n",
      "32             uni          1859                  629              SPD   \n",
      "21          lernen          1835                  617              AfD   \n",
      "1         bandlife          1792                  601              SPD   \n",
      "\n",
      "    anteil_nichtwaehler  \n",
      "29                34.58  \n",
      "35                34.55  \n",
      "26                34.53  \n",
      "5                 34.25  \n",
      "7                 34.20  \n",
      "14                34.20  \n",
      "6                 33.99  \n",
      "32                33.84  \n",
      "21                33.62  \n",
      "1                 33.54  \n"
     ]
    },
    {
     "name": "stderr",
     "output_type": "stream",
     "text": [
      "/var/folders/7b/mkfxb1j17sd1h4hx_hq780c40000gn/T/ipykernel_20817/1566994169.py:16: FutureWarning: DataFrameGroupBy.apply operated on the grouping columns. This behavior is deprecated, and in a future version of pandas the grouping columns will be excluded from the operation. Either pass `include_groups=False` to exclude the groupings or explicitly select the grouping columns after groupby to silence this warning.\n",
      "  hashtag_auswertung_realistisch = likes_exploded.groupby(\"hashtag_einzeln\").apply(\n"
     ]
    }
   ],
   "source": [
    "# Likes mit Beiträgen verknüpfen\n",
    "beitraege_mit_likes = likes_df.merge(beiträge_df, on=\"beitrag_id\", how=\"left\")\n",
    "\n",
    "# Likes mit realistischen Nutzerdaten verknüpfen\n",
    "likes_mit_nutzern = beitraege_mit_likes.merge(nutzer_realistisch_df, on=\"nutzer_id\", how=\"left\")\n",
    "\n",
    "# Hashtags vorbereiten\n",
    "likes_mit_nutzern[\"hashtags\"] = likes_mit_nutzern[\"hashtags\"].str.lower().str.replace(\"#\", \"\", regex=False)\n",
    "likes_mit_nutzern = likes_mit_nutzern.dropna(subset=[\"hashtags\"])\n",
    "likes_mit_nutzern[\"hashtag_einzeln\"] = likes_mit_nutzern[\"hashtags\"].str.split(\" \")\n",
    "\n",
    "# Einzelne Hashtags explodieren\n",
    "likes_exploded = likes_mit_nutzern.explode(\"hashtag_einzeln\")\n",
    "\n",
    "# Analyse pro Hashtag\n",
    "hashtag_auswertung_realistisch = likes_exploded.groupby(\"hashtag_einzeln\").apply(\n",
    "    lambda df: pd.Series({\n",
    "        \"gesamtanzahl\": len(df),\n",
    "        \"nichtwaehler_anzahl\": (df[\"wahlfrequenz\"].str.lower() == \"nie\").sum(),\n",
    "        \"dominante_partei\": df[df[\"wahlfrequenz\"].str.lower() != \"nie\"][\"gewaehlte_partei\"].mode().iloc[0]\n",
    "            if not df[df[\"wahlfrequenz\"].str.lower() != \"nie\"][\"gewaehlte_partei\"].mode().empty else None\n",
    "    })\n",
    ").reset_index()\n",
    "\n",
    "# Prozentualer Anteil der Nichtwähler berechnen\n",
    "hashtag_auswertung_realistisch[\"anteil_nichtwaehler\"] = (\n",
    "    hashtag_auswertung_realistisch[\"nichtwaehler_anzahl\"] /\n",
    "    hashtag_auswertung_realistisch[\"gesamtanzahl\"] * 100\n",
    ").round(2)\n",
    "\n",
    "# Optional: Nur Hashtags mit mindestens 10 Einträgen anzeigen\n",
    "hashtag_auswertung_realistisch = hashtag_auswertung_realistisch[\n",
    "    hashtag_auswertung_realistisch[\"gesamtanzahl\"] >= 10\n",
    "].sort_values(by=\"anteil_nichtwaehler\", ascending=False)\n",
    "\n",
    "# Ergebnisse anzeigen\n",
    "print(hashtag_auswertung_realistisch.head(10))\n"
   ]
  }
 ],
 "metadata": {
  "kernelspec": {
   "display_name": "Python 3",
   "language": "python",
   "name": "python3"
  },
  "language_info": {
   "codemirror_mode": {
    "name": "ipython",
    "version": 3
   },
   "file_extension": ".py",
   "mimetype": "text/x-python",
   "name": "python",
   "nbconvert_exporter": "python",
   "pygments_lexer": "ipython3",
   "version": "3.9.6"
  }
 },
 "nbformat": 4,
 "nbformat_minor": 5
}
